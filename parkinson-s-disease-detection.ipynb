{
 "cells": [
  {
   "cell_type": "markdown",
   "id": "fddc5bb9",
   "metadata": {
    "papermill": {
     "duration": 0.013274,
     "end_time": "2021-07-22T16:28:53.123043",
     "exception": false,
     "start_time": "2021-07-22T16:28:53.109769",
     "status": "completed"
    },
    "tags": []
   },
   "source": [
    "# **Introduction**\n",
    "\n",
    "What is Parkinson's Disease?\n",
    "\n",
    "Parkinson's disease (PD), or simply Parkinson's is a long-term degenerative disorder of the central nervous system that mainly affects the motor system. The symptoms usually emerge slowly and, as the disease worsens, non-motor symptoms become more common. The most obvious early symptoms are tremor, rigidity, slowness of movement, and difficulty with walking,but cognitive and behavioral problems may also occur. Parkinson's disease dementia becomes common in the advanced stages of the disease. Depression and anxiety are also common, occurring in more than a third of people with PD. Other symptoms include sensory, sleep, and emotional problems. The main motor symptoms are collectively called \"parkinsonism\", or a \"parkinsonian syndrome\n",
    "\n",
    "![](https://camo.githubusercontent.com/be21545deabab1e7257c04182b631f6f34ebae4b/68747470733a2f2f7061726b696e736f6e736e65627261736b612e6f72672f77702d636f6e74656e742f75706c6f6164732f323032302f30332f50442d4d414e2d31303234783532322e706e67)\n",
    "\n",
    "While Parkinson’s disease cannot be cured, early detection along with proper medication can significantly improve symptoms and quality of life, making it an important topic for research especially in the creation of new diagnostic tools.\n",
    "\n",
    "A 2017 study by Zham et al. found that it was possible to detect Parkinson’s by asking the patient to draw a spiral and then track:\n",
    "\n",
    " 1. Speed of drawing\n",
    " 2. Pen pressure\n",
    "\n",
    "The researchers found that the drawing speed was slower and the pen pressure lower among Parkinson’s patients — this was especially pronounced for patients with a more acute/advanced forms of the disease.\n",
    "\n",
    "We’ll be leveraging the fact that two of the most common Parkinson’s symptoms include tremors and muscle rigidity which directly impact the visual appearance of a hand drawn spiral and wave.\n",
    "\n",
    "The variation in visual appearance will enable us to train a computer vision + machine learning algorithm to automatically detect Parkinson’s disease.\n"
   ]
  },
  {
   "cell_type": "markdown",
   "id": "4f864a7a",
   "metadata": {
    "papermill": {
     "duration": 0.0118,
     "end_time": "2021-07-22T16:28:53.147948",
     "exception": false,
     "start_time": "2021-07-22T16:28:53.136148",
     "status": "completed"
    },
    "tags": []
   },
   "source": [
    "# **Dataset Description**\n",
    "\n",
    "The dataset we’ll be using here today was curated by Adriano de Oliveira Andrade and Joao Paulo Folado from the NIATS of Federal University of Uberlândia.\n",
    "\n",
    "The dataset itself consists of images and is pre-split into a training set and a testing set, consisting of:\n",
    "\n",
    "Spiral: training, and testing\n",
    "\n",
    "Wave: training, and testing\n",
    "\n",
    "![](https://camo.githubusercontent.com/454ee9a31a3b087992584258f97b5b4a77d87dc7/68747470733a2f2f7079696d6167657365617263682e636f6d2f77702d636f6e74656e742f75706c6f6164732f323031392f30342f6465746563745f7061726b696e736f6e735f646174617365742e6a7067)\n",
    "\n",
    "**Approach**\n",
    "\n",
    "Although Deep learning with Convolutional Neural networks seems to be the best approach for this computer vision problem, we have a limited amount of training data and we cannot apply data augmentation as it will lead to a distortion of the results. With this in mind we will rather apply the Histogram of Oriented Gradients Image Descriptor with an ensemble method i.e., Random Forest Classifier and Xgboost"
   ]
  },
  {
   "cell_type": "markdown",
   "id": "9f0a7099",
   "metadata": {
    "papermill": {
     "duration": 0.011992,
     "end_time": "2021-07-22T16:28:53.173304",
     "exception": false,
     "start_time": "2021-07-22T16:28:53.161312",
     "status": "completed"
    },
    "tags": []
   },
   "source": [
    "# **Load the data and extract the features**"
   ]
  },
  {
   "cell_type": "code",
   "execution_count": 1,
   "id": "a41a816e",
   "metadata": {
    "execution": {
     "iopub.execute_input": "2021-07-22T16:28:53.207469Z",
     "iopub.status.busy": "2021-07-22T16:28:53.206904Z",
     "iopub.status.idle": "2021-07-22T16:28:55.198912Z",
     "shell.execute_reply": "2021-07-22T16:28:55.196906Z",
     "shell.execute_reply.started": "2021-07-22T16:25:48.634724Z"
    },
    "papermill": {
     "duration": 2.013975,
     "end_time": "2021-07-22T16:28:55.199208",
     "exception": true,
     "start_time": "2021-07-22T16:28:53.185233",
     "status": "failed"
    },
    "tags": []
   },
   "outputs": [
    {
     "ename": "ModuleNotFoundError",
     "evalue": "No module named 'imutils'",
     "output_type": "error",
     "traceback": [
      "\u001b[0;31m---------------------------------------------------------------------------\u001b[0m",
      "\u001b[0;31mModuleNotFoundError\u001b[0m                       Traceback (most recent call last)",
      "\u001b[0;32m<ipython-input-1-e2dba662289c>\u001b[0m in \u001b[0;36m<module>\u001b[0;34m\u001b[0m\n\u001b[1;32m      3\u001b[0m \u001b[0;32mimport\u001b[0m \u001b[0mnumpy\u001b[0m \u001b[0;32mas\u001b[0m \u001b[0mnp\u001b[0m\u001b[0;34m\u001b[0m\u001b[0;34m\u001b[0m\u001b[0m\n\u001b[1;32m      4\u001b[0m \u001b[0;32mfrom\u001b[0m \u001b[0mskimage\u001b[0m \u001b[0;32mimport\u001b[0m \u001b[0mfeature\u001b[0m\u001b[0;34m\u001b[0m\u001b[0;34m\u001b[0m\u001b[0m\n\u001b[0;32m----> 5\u001b[0;31m \u001b[0;32mfrom\u001b[0m \u001b[0mimutils\u001b[0m \u001b[0;32mimport\u001b[0m \u001b[0mpaths\u001b[0m\u001b[0;34m\u001b[0m\u001b[0;34m\u001b[0m\u001b[0m\n\u001b[0m\u001b[1;32m      6\u001b[0m \u001b[0;32mimport\u001b[0m \u001b[0mrandom\u001b[0m\u001b[0;34m\u001b[0m\u001b[0;34m\u001b[0m\u001b[0m\n\u001b[1;32m      7\u001b[0m \u001b[0;32mimport\u001b[0m \u001b[0mmatplotlib\u001b[0m\u001b[0;34m.\u001b[0m\u001b[0mpyplot\u001b[0m \u001b[0;32mas\u001b[0m \u001b[0mplt\u001b[0m\u001b[0;34m\u001b[0m\u001b[0;34m\u001b[0m\u001b[0m\n",
      "\u001b[0;31mModuleNotFoundError\u001b[0m: No module named 'imutils'"
     ]
    }
   ],
   "source": [
    "import os\n",
    "import cv2\n",
    "import numpy as np\n",
    "from skimage import feature\n",
    "from imutils import paths\n",
    "import random\n",
    "import matplotlib.pyplot as plt\n",
    "%matplotlib inline"
   ]
  },
  {
   "cell_type": "markdown",
   "id": "62b7955f",
   "metadata": {
    "papermill": {
     "duration": null,
     "end_time": null,
     "exception": null,
     "start_time": null,
     "status": "pending"
    },
    "tags": []
   },
   "source": [
    "**Quantify the image using a HOG Descriptor**\n",
    "\n",
    "HOG is a structural descriptor that will capture and quantify changes in local gradient in the input image. HOG will naturally be able to quantify how the directions of a both spirals and waves change. And furthermore, HOG will be able to capture if these drawings have more of a “shake” to them, as we might expect from a Parkinson’s patient.\n",
    "\n",
    "The resultant feature vector will then be used to train the classifier"
   ]
  },
  {
   "cell_type": "code",
   "execution_count": null,
   "id": "d3feb773",
   "metadata": {
    "execution": {
     "iopub.execute_input": "2021-07-22T16:25:48.700531Z",
     "iopub.status.busy": "2021-07-22T16:25:48.700171Z",
     "iopub.status.idle": "2021-07-22T16:25:48.705778Z",
     "shell.execute_reply": "2021-07-22T16:25:48.704648Z",
     "shell.execute_reply.started": "2021-07-22T16:25:48.700501Z"
    },
    "papermill": {
     "duration": null,
     "end_time": null,
     "exception": null,
     "start_time": null,
     "status": "pending"
    },
    "tags": []
   },
   "outputs": [],
   "source": [
    "def quantify_image(image):\n",
    "    features = feature.hog(image, orientations=9,\n",
    "                           pixels_per_cell=(10, 10), cells_per_block=(2, 2),\n",
    "                           transform_sqrt=True, block_norm=\"L1\")\n",
    "    return features"
   ]
  },
  {
   "cell_type": "code",
   "execution_count": null,
   "id": "b7d8348d",
   "metadata": {
    "execution": {
     "iopub.execute_input": "2021-07-22T16:25:48.763520Z",
     "iopub.status.busy": "2021-07-22T16:25:48.763150Z",
     "iopub.status.idle": "2021-07-22T16:25:48.771413Z",
     "shell.execute_reply": "2021-07-22T16:25:48.770108Z",
     "shell.execute_reply.started": "2021-07-22T16:25:48.763490Z"
    },
    "papermill": {
     "duration": null,
     "end_time": null,
     "exception": null,
     "start_time": null,
     "status": "pending"
    },
    "tags": []
   },
   "outputs": [],
   "source": [
    "def load_split(path):\n",
    "    # grab the list of images in the input directory, then initialize\n",
    "    # the list of data (i.e., images) and class labels\n",
    "    imagePaths = list(paths.list_images(path))\n",
    "    data = []\n",
    "    labels = []\n",
    "    # loop over the image paths\n",
    "    for imagePath in imagePaths:\n",
    "        # extract the class label from the filename\n",
    "        label = imagePath.split(os.path.sep)[-2]\n",
    "        # load the input image, convert it to grayscale, and resize\n",
    "        # it to 200x200 pixels, ignoring aspect ratio\n",
    "        image = cv2.imread(imagePath)\n",
    "        image = cv2.cvtColor(image, cv2.COLOR_BGR2GRAY)\n",
    "        image = cv2.resize(image, (200, 200))\n",
    "        # threshold the image such that the drawing appears as white\n",
    "        # on a black background\n",
    "        image = cv2.threshold(image, 0, 255,\n",
    "                              cv2.THRESH_BINARY_INV | cv2.THRESH_OTSU)[1]\n",
    "        # quantify the image\n",
    "        features = quantify_image(image)\n",
    "        # update the data and labels lists, respectively\n",
    "        data.append(features)\n",
    "        labels.append(label)\n",
    "    return (np.array(data), np.array(labels))"
   ]
  },
  {
   "cell_type": "markdown",
   "id": "3e172613",
   "metadata": {
    "papermill": {
     "duration": null,
     "end_time": null,
     "exception": null,
     "start_time": null,
     "status": "pending"
    },
    "tags": []
   },
   "source": [
    "# **Training the Models**"
   ]
  },
  {
   "cell_type": "code",
   "execution_count": null,
   "id": "d7b42281",
   "metadata": {
    "execution": {
     "iopub.execute_input": "2021-07-22T16:25:48.856538Z",
     "iopub.status.busy": "2021-07-22T16:25:48.856180Z",
     "iopub.status.idle": "2021-07-22T16:25:55.863506Z",
     "shell.execute_reply": "2021-07-22T16:25:55.862469Z",
     "shell.execute_reply.started": "2021-07-22T16:25:48.856507Z"
    },
    "papermill": {
     "duration": null,
     "end_time": null,
     "exception": null,
     "start_time": null,
     "status": "pending"
    },
    "tags": []
   },
   "outputs": [],
   "source": [
    "!pip install imutils\n",
    "from imutils import paths\n",
    "from sklearn.preprocessing import LabelEncoder\n",
    "from sklearn.ensemble import RandomForestClassifier\n",
    "from xgboost import XGBClassifier\n",
    "from sklearn.metrics import confusion_matrix"
   ]
  },
  {
   "cell_type": "code",
   "execution_count": null,
   "id": "7c8df11c",
   "metadata": {
    "execution": {
     "iopub.execute_input": "2021-07-22T16:25:55.866035Z",
     "iopub.status.busy": "2021-07-22T16:25:55.865673Z",
     "iopub.status.idle": "2021-07-22T16:25:55.877551Z",
     "shell.execute_reply": "2021-07-22T16:25:55.876415Z",
     "shell.execute_reply.started": "2021-07-22T16:25:55.865989Z"
    },
    "papermill": {
     "duration": null,
     "end_time": null,
     "exception": null,
     "start_time": null,
     "status": "pending"
    },
    "tags": []
   },
   "outputs": [],
   "source": [
    "def train_models(dataset):\n",
    "    # initialize the models\n",
    "    models = {\n",
    "        \"Rf\": {\n",
    "            \"classifier\": RandomForestClassifier(random_state=1),\n",
    "            \"accuracy\": 0,\n",
    "            \"sensitivity\": 0,\n",
    "            \"specificity\": 0,\n",
    "        },\n",
    "        \"Xgb\": {\n",
    "            \"classifier\": XGBClassifier(),\n",
    "            \"accuracy\": 0,\n",
    "            \"sensitivity\": 0,\n",
    "            \"specificity\": 0,\n",
    "        }\n",
    "    }\n",
    "    # define the path to the testing and training directories\n",
    "    path = \"../input/parkinsons-drawings/\" + dataset\n",
    "    trainingPath = os.path.sep.join([path, \"training\"])\n",
    "    testingPath = os.path.sep.join([path, \"testing\"])\n",
    "    # load the data\n",
    "    (trainX, trainY) = load_split(trainingPath)\n",
    "    (testX, testY) = load_split(testingPath)\n",
    "    # encode the labels\n",
    "    le = LabelEncoder()\n",
    "    trainY = le.fit_transform(trainY)\n",
    "    testY = le.transform(testY)\n",
    "\n",
    "    # train each model and calculate its metrics\n",
    "    for model in models:\n",
    "        models[model][\"classifier\"].fit(trainX, trainY)\n",
    "        predictions = models[model][\"classifier\"].predict(testX)\n",
    "        cm = confusion_matrix(testY, predictions).ravel()\n",
    "        tn, fp, fn, tp = cm\n",
    "        models[model][\"accuracy\"] = (tp + tn) / float(cm.sum())\n",
    "        models[model][\"sensitivity\"] = tp / float(tp + fn)\n",
    "        models[model][\"specificity\"] = tn / float(tn + fp)\n",
    "\n",
    "    return models"
   ]
  },
  {
   "cell_type": "code",
   "execution_count": null,
   "id": "fbc4339c",
   "metadata": {
    "execution": {
     "iopub.execute_input": "2021-07-22T16:25:55.880059Z",
     "iopub.status.busy": "2021-07-22T16:25:55.879610Z",
     "iopub.status.idle": "2021-07-22T16:25:58.640900Z",
     "shell.execute_reply": "2021-07-22T16:25:58.639843Z",
     "shell.execute_reply.started": "2021-07-22T16:25:55.880010Z"
    },
    "papermill": {
     "duration": null,
     "end_time": null,
     "exception": null,
     "start_time": null,
     "status": "pending"
    },
    "tags": []
   },
   "outputs": [],
   "source": [
    "# Train the models on the spiral drawings\n",
    "spiralModels = train_models('spiral')"
   ]
  },
  {
   "cell_type": "code",
   "execution_count": null,
   "id": "7e1e13b4",
   "metadata": {
    "execution": {
     "iopub.execute_input": "2021-07-22T16:25:58.647834Z",
     "iopub.status.busy": "2021-07-22T16:25:58.645400Z",
     "iopub.status.idle": "2021-07-22T16:26:01.637583Z",
     "shell.execute_reply": "2021-07-22T16:26:01.636686Z",
     "shell.execute_reply.started": "2021-07-22T16:25:58.647768Z"
    },
    "papermill": {
     "duration": null,
     "end_time": null,
     "exception": null,
     "start_time": null,
     "status": "pending"
    },
    "tags": []
   },
   "outputs": [],
   "source": [
    "# train the model on the wave-form drawings\n",
    "waveModels = train_models('wave')"
   ]
  },
  {
   "cell_type": "markdown",
   "id": "2e373fb7",
   "metadata": {
    "papermill": {
     "duration": null,
     "end_time": null,
     "exception": null,
     "start_time": null,
     "status": "pending"
    },
    "tags": []
   },
   "source": [
    "# **Models Performance**"
   ]
  },
  {
   "cell_type": "markdown",
   "id": "968080fb",
   "metadata": {
    "papermill": {
     "duration": null,
     "end_time": null,
     "exception": null,
     "start_time": null,
     "status": "pending"
    },
    "tags": []
   },
   "source": [
    "**Spiral Drawings**"
   ]
  },
  {
   "cell_type": "code",
   "execution_count": null,
   "id": "02f68214",
   "metadata": {
    "execution": {
     "iopub.execute_input": "2021-07-22T16:26:01.639785Z",
     "iopub.status.busy": "2021-07-22T16:26:01.639078Z",
     "iopub.status.idle": "2021-07-22T16:26:01.650072Z",
     "shell.execute_reply": "2021-07-22T16:26:01.649057Z",
     "shell.execute_reply.started": "2021-07-22T16:26:01.639736Z"
    },
    "papermill": {
     "duration": null,
     "end_time": null,
     "exception": null,
     "start_time": null,
     "status": "pending"
    },
    "tags": []
   },
   "outputs": [],
   "source": [
    "print(\"Random Forrest vs XGBoost Classifier\\n\\n\")\n",
    "for metric in (\"accuracy\", \"sensitivity\", \"specificity\"):\n",
    "    print(f\"{metric.capitalize()}: \")\n",
    "    print(\"Random Forrest={:.2f}%, XGBoost={:.2f}% \\n\".format(\n",
    "        spiralModels['Rf'][metric]*100, spiralModels['Xgb'][metric]*100))"
   ]
  },
  {
   "cell_type": "markdown",
   "id": "5c195ab7",
   "metadata": {
    "papermill": {
     "duration": null,
     "end_time": null,
     "exception": null,
     "start_time": null,
     "status": "pending"
    },
    "tags": []
   },
   "source": [
    "**Wave Drawings**"
   ]
  },
  {
   "cell_type": "code",
   "execution_count": null,
   "id": "3585fb3c",
   "metadata": {
    "execution": {
     "iopub.execute_input": "2021-07-22T16:26:01.654103Z",
     "iopub.status.busy": "2021-07-22T16:26:01.653688Z",
     "iopub.status.idle": "2021-07-22T16:26:01.661235Z",
     "shell.execute_reply": "2021-07-22T16:26:01.659951Z",
     "shell.execute_reply.started": "2021-07-22T16:26:01.654072Z"
    },
    "papermill": {
     "duration": null,
     "end_time": null,
     "exception": null,
     "start_time": null,
     "status": "pending"
    },
    "tags": []
   },
   "outputs": [],
   "source": [
    "print(\"Random Forrest vs XGBoost Classifier\\n\\n\")\n",
    "for metric in (\"accuracy\", \"sensitivity\", \"specificity\"):\n",
    "    print(f\"{metric.capitalize()}: \")\n",
    "    print(\"Random Forrest={:.2f}%, XGBoost={:.2f}% \\n\".format(\n",
    "        waveModels['Rf'][metric]*100, waveModels['Xgb'][metric]*100))"
   ]
  },
  {
   "cell_type": "markdown",
   "id": "50de97e2",
   "metadata": {
    "papermill": {
     "duration": null,
     "end_time": null,
     "exception": null,
     "start_time": null,
     "status": "pending"
    },
    "tags": []
   },
   "source": [
    "# **Testing On Sample Images and Visualize the predictions**"
   ]
  },
  {
   "cell_type": "code",
   "execution_count": null,
   "id": "a8de11a4",
   "metadata": {
    "execution": {
     "iopub.execute_input": "2021-07-22T16:26:01.663510Z",
     "iopub.status.busy": "2021-07-22T16:26:01.663086Z",
     "iopub.status.idle": "2021-07-22T16:26:01.677357Z",
     "shell.execute_reply": "2021-07-22T16:26:01.676401Z",
     "shell.execute_reply.started": "2021-07-22T16:26:01.663468Z"
    },
    "papermill": {
     "duration": null,
     "end_time": null,
     "exception": null,
     "start_time": null,
     "status": "pending"
    },
    "tags": []
   },
   "outputs": [],
   "source": [
    "def test_prediction(model, testingPath):\n",
    "    # get the list of images\n",
    "    testingPaths = list(paths.list_images(testingPath))\n",
    "    output_images = []\n",
    "    # pick 15 images at random\n",
    "    for _ in range(15):\n",
    "        image = cv2.imread(random.choice(testingPaths))\n",
    "        output = image.copy()\n",
    "        output = cv2.resize(output, (128, 128))\n",
    "        # pre-process the image\n",
    "        image = cv2.cvtColor(image, cv2.COLOR_BGR2GRAY)\n",
    "        image = cv2.resize(image, (200, 200))\n",
    "        image = cv2.threshold(image, 0, 255,\n",
    "                              cv2.THRESH_BINARY_INV | cv2.THRESH_OTSU)[1]\n",
    "        # quantify the image and make predictions based on the extracted features\n",
    "        features = quantify_image(image)\n",
    "        preds = model.predict([features])\n",
    "        label = \"Parkinsons\" if preds[0] else \"Healthy\"\n",
    "\n",
    "        # draw the colored class label on the output image and add it to\n",
    "        # the set of output images\n",
    "        color = (0, 255, 0) if label == \"Healthy\" else (0, 0, 255)\n",
    "        cv2.putText(output, label, (3, 20), cv2.FONT_HERSHEY_SIMPLEX, 0.5,\n",
    "                    color, 2)\n",
    "        output_images.append(output)\n",
    "    plt.figure(figsize=(20, 20))\n",
    "    for i in range(len(output_images)):\n",
    "        plt.subplot(5, 5, i+1)\n",
    "        plt.imshow(output_images[i])\n",
    "        plt.axis(\"off\")\n",
    "    plt.show()"
   ]
  },
  {
   "cell_type": "markdown",
   "id": "7469a44d",
   "metadata": {
    "papermill": {
     "duration": null,
     "end_time": null,
     "exception": null,
     "start_time": null,
     "status": "pending"
    },
    "tags": []
   },
   "source": [
    "**Spiral images**"
   ]
  },
  {
   "cell_type": "code",
   "execution_count": null,
   "id": "e82e6e15",
   "metadata": {
    "execution": {
     "iopub.execute_input": "2021-07-22T16:26:01.680985Z",
     "iopub.status.busy": "2021-07-22T16:26:01.680410Z",
     "iopub.status.idle": "2021-07-22T16:26:03.173167Z",
     "shell.execute_reply": "2021-07-22T16:26:03.171820Z",
     "shell.execute_reply.started": "2021-07-22T16:26:01.680938Z"
    },
    "papermill": {
     "duration": null,
     "end_time": null,
     "exception": null,
     "start_time": null,
     "status": "pending"
    },
    "tags": []
   },
   "outputs": [],
   "source": [
    "testingPath = os.path.sep.join([\"../input/parkinsons-drawings/spiral\", \"testing\"])\n",
    "test_prediction(spiralModels['Rf']['classifier'], testingPath)"
   ]
  },
  {
   "cell_type": "markdown",
   "id": "6a7d2773",
   "metadata": {
    "papermill": {
     "duration": null,
     "end_time": null,
     "exception": null,
     "start_time": null,
     "status": "pending"
    },
    "tags": []
   },
   "source": [
    "**Wave Images**"
   ]
  },
  {
   "cell_type": "code",
   "execution_count": null,
   "id": "d1e13382",
   "metadata": {
    "execution": {
     "iopub.execute_input": "2021-07-22T16:26:03.175631Z",
     "iopub.status.busy": "2021-07-22T16:26:03.175108Z",
     "iopub.status.idle": "2021-07-22T16:26:04.946004Z",
     "shell.execute_reply": "2021-07-22T16:26:04.945253Z",
     "shell.execute_reply.started": "2021-07-22T16:26:03.175563Z"
    },
    "papermill": {
     "duration": null,
     "end_time": null,
     "exception": null,
     "start_time": null,
     "status": "pending"
    },
    "tags": []
   },
   "outputs": [],
   "source": [
    "testingPath = os.path.sep.join([\"../input/parkinsons-drawings/wave\", \"testing\"])\n",
    "test_prediction(waveModels['Rf']['classifier'], testingPath)"
   ]
  }
 ],
 "metadata": {
  "kernelspec": {
   "display_name": "Python 3",
   "language": "python",
   "name": "python3"
  },
  "language_info": {
   "codemirror_mode": {
    "name": "ipython",
    "version": 3
   },
   "file_extension": ".py",
   "mimetype": "text/x-python",
   "name": "python",
   "nbconvert_exporter": "python",
   "pygments_lexer": "ipython3",
   "version": "3.7.10"
  },
  "papermill": {
   "default_parameters": {},
   "duration": 10.740815,
   "end_time": "2021-07-22T16:28:56.789451",
   "environment_variables": {},
   "exception": true,
   "input_path": "__notebook__.ipynb",
   "output_path": "__notebook__.ipynb",
   "parameters": {},
   "start_time": "2021-07-22T16:28:46.048636",
   "version": "2.3.3"
  }
 },
 "nbformat": 4,
 "nbformat_minor": 5
}
